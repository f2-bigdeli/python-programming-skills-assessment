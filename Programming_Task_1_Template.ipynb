{
 "cells": [
  {
   "cell_type": "markdown",
   "metadata": {
    "deletable": false
   },
   "source": [
    "# Programming for Data Science\n"
   ]
  },
  {
   "cell_type": "markdown",
   "metadata": {
    "deletable": false
   },
   "source": [
    "# Programming Task 1: You MUST NOT import any Python library functions for this task."
   ]
  },
  {
   "cell_type": "markdown",
   "metadata": {
    "deletable": false
   },
   "source": [
    "### Requirement FR1 - Develop a function to read a single column from a CSV file\n",
    "### Description: The function should accept two parameters: the data file name and a column number. The column number specifies which of the columns to read. It can range between 0 and n-1 (where n is the number of columns). The function should return two values: the column name and a List containing all the specified column’s data values. You should use the task1.csv data file to test your function but your function should also work for other CSV files. "
   ]
  },
  {
   "cell_type": "code",
   "execution_count": 1,
   "metadata": {
    "deletable": false
   },
   "outputs": [
    {
     "name": "stdout",
     "output_type": "stream",
     "text": [
      "Column Name: cancer \n",
      "Column Values: ['70', '70', '68', '53', '75', '69', '70', '63', '73', '66', '70', '63', '68', '69', '72', '65', '69', '61', '68', '67', '68', '65', '65', '68', '64', '63', '68', '69', '61', '72', '63', '75', '67', '72', '63', '69', '73', '70', '69', '73', '69', '73', '65', '70', '64', '64', '63', '68', '70', '70', '70', '62', '81', '69', '72', '69', '66', '67', '70', '84', '65', '65', '63', '81', '65', '67', '66', '67', '61', '76', '66', '70', '67', '70', '73', '63', '62', '82', '75', '65', '74', '68', '81', '76', '57', '65', '62', '64', '65', '63', '69', '65', '100', '65', '62', '66', '64', '61', '64', '60', '55', '64', '57', '63', '59', '66', '68', '70', '70', '51', '58', '57', '55', '68', '67', '72', '67', '58', '61', '60', '58', '67', '68', '66', '62', '59', '66', '64', '60', '63', '65', '55', '56', '63', '59', '60', '65', '73', '65', '65', '61', '64', '65', '63', '70', '59', '67', '68', '66', '64', '64', '65', '68', '57', '68', '65', '64', '66', '72', '68', '67', '64', '67', '57', '59', '52', '63', '58', '47', '58', '61', '64', '62', '60', '65', '58', '57', '64', '49', '59', '59', '59', '67', '59', '55', '57', '57', '65', '61', '58', '59', '61', '61', '59', '64', '56', '58', '59', '64', '57', '56', '60', '61', '57', '59', '53', '59', '56', '58', '63']\n"
     ]
    }
   ],
   "source": [
    "# Define a function to read a specific column from a CSV file and return its name and values\n",
    "def read_column (csv_file, column_number):\n",
    "\n",
    "# Open CSV file in read mode with UTF-8 encoding to handle special characters\n",
    "    with open (csv_file, \"r\", encoding=\"utf-8-sig\") as file:\n",
    "\n",
    "        # Read the first line of CSV file to extract names\n",
    "        first_line = file.readline().strip().split(\",\")\n",
    "\n",
    "        # Check if the column number is in the range\n",
    "        if 0 <= column_number < len(first_line):\n",
    "\n",
    "            # Find column name\n",
    "            column_name = first_line[column_number].strip().lower()\n",
    "\n",
    "            # Create an empty list for values in the selected column\n",
    "            column_values = []\n",
    "\n",
    "            # Iterate over the remaining lines in the file\n",
    "            for line in file:\n",
    "\n",
    "                # Separate values in the lines based on commas\n",
    "                values = line.strip().split(\",\")\n",
    "\n",
    "                # Add values from the selected column to the created list\n",
    "                column_values.append(values[column_number].strip())\n",
    "\n",
    "            # Return column name and column values\n",
    "            return (column_name,column_values)\n",
    "        \n",
    "        # Raise an error if selected column number is not in the range\n",
    "        else:\n",
    "            raise ValueError (\"column number is out of range\")\n",
    "\n",
    "# Test the function\n",
    "        \n",
    "x , y = read_column (\"task1.csv\", 0)\n",
    "print (f\"Column Name: {x} \\nColumn Values: {y}\")"
   ]
  },
  {
   "cell_type": "markdown",
   "metadata": {
    "deletable": false
   },
   "source": [
    "### Requirement FR2 - Develop a function to read CSV data from a file into memory\n",
    "### Description: The task1.csv data file contains several columns of data values. This function should accept a single parameter: the data file name. It should make use of the function developed in FR1 to read all columns of data from the data file and add them to a Dictionary data structure. The Dictionary should contain one entry for each column in the CSV data file. "
   ]
  },
  {
   "cell_type": "code",
   "execution_count": 2,
   "metadata": {
    "deletable": false
   },
   "outputs": [
    {
     "name": "stdout",
     "output_type": "stream",
     "text": [
      "{'cancer': [70.0, 70.0, 68.0, 53.0, 75.0, 69.0, 70.0, 63.0, 73.0, 66.0, 70.0, 63.0, 68.0, 69.0, 72.0, 65.0, 69.0, 61.0, 68.0, 67.0, 68.0, 65.0, 65.0, 68.0, 64.0, 63.0, 68.0, 69.0, 61.0, 72.0, 63.0, 75.0, 67.0, 72.0, 63.0, 69.0, 73.0, 70.0, 69.0, 73.0, 69.0, 73.0, 65.0, 70.0, 64.0, 64.0, 63.0, 68.0, 70.0, 70.0, 70.0, 62.0, 81.0, 69.0, 72.0, 69.0, 66.0, 67.0, 70.0, 84.0, 65.0, 65.0, 63.0, 81.0, 65.0, 67.0, 66.0, 67.0, 61.0, 76.0, 66.0, 70.0, 67.0, 70.0, 73.0, 63.0, 62.0, 82.0, 75.0, 65.0, 74.0, 68.0, 81.0, 76.0, 57.0, 65.0, 62.0, 64.0, 65.0, 63.0, 69.0, 65.0, 100.0, 65.0, 62.0, 66.0, 64.0, 61.0, 64.0, 60.0, 55.0, 64.0, 57.0, 63.0, 59.0, 66.0, 68.0, 70.0, 70.0, 51.0, 58.0, 57.0, 55.0, 68.0, 67.0, 72.0, 67.0, 58.0, 61.0, 60.0, 58.0, 67.0, 68.0, 66.0, 62.0, 59.0, 66.0, 64.0, 60.0, 63.0, 65.0, 55.0, 56.0, 63.0, 59.0, 60.0, 65.0, 73.0, 65.0, 65.0, 61.0, 64.0, 65.0, 63.0, 70.0, 59.0, 67.0, 68.0, 66.0, 64.0, 64.0, 65.0, 68.0, 57.0, 68.0, 65.0, 64.0, 66.0, 72.0, 68.0, 67.0, 64.0, 67.0, 57.0, 59.0, 52.0, 63.0, 58.0, 47.0, 58.0, 61.0, 64.0, 62.0, 60.0, 65.0, 58.0, 57.0, 64.0, 49.0, 59.0, 59.0, 59.0, 67.0, 59.0, 55.0, 57.0, 57.0, 65.0, 61.0, 58.0, 59.0, 61.0, 61.0, 59.0, 64.0, 56.0, 58.0, 59.0, 64.0, 57.0, 56.0, 60.0, 61.0, 57.0, 59.0, 53.0, 59.0, 56.0, 58.0, 63.0], 'cardiovascular': [37.0, 34.0, 24.0, 38.0, 35.0, 38.0, 37.0, 32.0, 35.0, 36.0, 35.0, 31.0, 42.0, 47.0, 32.0, 30.0, 34.0, 30.0, 39.0, 35.0, 50.0, 40.0, 50.0, 30.0, 37.0, 50.0, 33.0, 39.0, 40.0, 39.0, 43.0, 39.0, 24.0, 36.0, 43.0, 34.0, 23.0, 33.0, 29.0, 40.0, 30.0, 29.0, 32.0, 42.0, 44.0, 41.0, 41.0, 35.0, 33.0, 29.0, 34.0, 56.0, 22.0, 34.0, 24.0, 37.0, 52.0, 24.0, 29.0, 34.0, 40.0, 52.0, 35.0, 41.0, 13.0, 38.0, 31.0, 30.0, 30.0, 35.0, 45.0, 44.0, 27.0, 43.0, 28.0, 35.0, 36.0, 0.0, 55.0, 41.0, 73.0, 16.0, 38.0, 28.0, 30.0, 32.0, 25.0, 41.0, 35.0, 24.0, 33.0, 28.0, 70.0, 48.0, 37.0, 44.0, 38.0, 35.0, 29.0, 46.0, 35.0, 39.0, 41.0, 31.0, 23.0, 44.0, 64.0, 33.0, 50.0, 25.0, 34.0, 30.0, 37.0, 42.0, 49.0, 82.0, 77.0, 36.0, 78.0, 47.0, 42.0, 45.0, 56.0, 36.0, 32.0, 36.0, 27.0, 39.0, 31.0, 29.0, 36.0, 32.0, 32.0, 28.0, 25.0, 29.0, 47.0, 34.0, 29.0, 38.0, 33.0, 44.0, 39.0, 22.0, 40.0, 45.0, 33.0, 78.0, 31.0, 46.0, 46.0, 30.0, 100.0, 51.0, 44.0, 43.0, 31.0, 37.0, 47.0, 36.0, 32.0, 34.0, 31.0, 19.0, 28.0, 14.0, 31.0, 0.0, 44.0, 28.0, 28.0, 46.0, 25.0, 31.0, 31.0, 28.0, 31.0, 26.0, 33.0, 28.0, 27.0, 52.0, 10.0, 27.0, 31.0, 57.0, 19.0, 27.0, 29.0, 0.0, 44.0, 31.0, 35.0, 33.0, 27.0, 29.0, 25.0, 30.0, 23.0, 22.0, 31.0, 26.0, 37.0, 27.0, 31.0, 24.0, 29.0, 42.0, 38.0, 33.0], 'stroke': [83.0, 53.0, 71.0, 62.0, 61.0, 66.0, 58.0, 71.0, 73.0, 67.0, 65.0, 54.0, 65.0, 79.0, 65.0, 62.0, 73.0, 64.0, 71.0, 76.0, 75.0, 59.0, 74.0, 75.0, 62.0, 69.0, 70.0, 63.0, 53.0, 74.0, 75.0, 84.0, 66.0, 63.0, 67.0, 63.0, 73.0, 95.0, 62.0, 69.0, 87.0, 73.0, 64.0, 64.0, 67.0, 84.0, 74.0, 67.0, 70.0, 69.0, 83.0, 71.0, 88.0, 95.0, 88.0, 67.0, 67.0, 71.0, 69.0, 81.0, 64.0, 68.0, 72.0, 89.0, 65.0, 68.0, 69.0, 78.0, 70.0, 77.0, 77.0, 75.0, 74.0, 84.0, 73.0, 83.0, 59.0, 84.0, 76.0, 69.0, 85.0, 72.0, 79.0, 81.0, 63.0, 58.0, 70.0, 75.0, 67.0, 84.0, 66.0, 63.0, 88.0, 77.0, 68.0, 66.0, 64.0, 59.0, 79.0, 72.0, 55.0, 75.0, 65.0, 57.0, 74.0, 78.0, 81.0, 73.0, 84.0, 56.0, 67.0, 54.0, 49.0, 72.0, 75.0, 84.0, 68.0, 57.0, 74.0, 86.0, 79.0, 90.0, 68.0, 70.0, 64.0, 65.0, 69.0, 78.0, 77.0, 71.0, 74.0, 73.0, 68.0, 67.0, 65.0, 61.0, 70.0, 73.0, 96.0, 70.0, 62.0, 70.0, 76.0, 82.0, 73.0, 74.0, 80.0, 73.0, 80.0, 90.0, 83.0, 83.0, 76.0, 67.0, 72.0, 74.0, 64.0, 86.0, 77.0, 84.0, 79.0, 81.0, 74.0, 80.0, 67.0, 72.0, 86.0, 100.0, 48.0, 59.0, 61.0, 64.0, 79.0, 79.0, 78.0, 70.0, 78.0, 59.0, 71.0, 73.0, 70.0, 53.0, 75.0, 93.0, 68.0, 55.0, 74.0, 64.0, 65.0, 0.0, 58.0, 75.0, 76.0, 55.0, 70.0, 53.0, 60.0, 69.0, 77.0, 63.0, 62.0, 81.0, 57.0, 55.0, 55.0, 60.0, 64.0, 61.0, 76.0, 77.0], 'depression': [64.0, 56.0, 69.0, 46.0, 62.0, 61.0, 62.0, 60.0, 65.0, 69.0, 64.0, 54.0, 60.0, 72.0, 66.0, 62.0, 72.0, 56.0, 60.0, 58.0, 61.0, 63.0, 61.0, 72.0, 54.0, 62.0, 66.0, 66.0, 45.0, 61.0, 60.0, 67.0, 65.0, 65.0, 51.0, 61.0, 71.0, 72.0, 61.0, 53.0, 66.0, 69.0, 63.0, 73.0, 59.0, 62.0, 69.0, 71.0, 54.0, 70.0, 58.0, 71.0, 100.0, 68.0, 73.0, 62.0, 67.0, 60.0, 74.0, 82.0, 61.0, 55.0, 69.0, 74.0, 72.0, 65.0, 63.0, 71.0, 58.0, 50.0, 66.0, 72.0, 60.0, 58.0, 72.0, 73.0, 70.0, 85.0, 66.0, 67.0, 60.0, 82.0, 62.0, 68.0, 60.0, 59.0, 65.0, 65.0, 71.0, 66.0, 61.0, 65.0, 72.0, 65.0, 66.0, 65.0, 62.0, 53.0, 66.0, 57.0, 52.0, 76.0, 64.0, 58.0, 65.0, 56.0, 61.0, 76.0, 64.0, 53.0, 62.0, 54.0, 55.0, 67.0, 68.0, 58.0, 54.0, 57.0, 63.0, 65.0, 63.0, 49.0, 66.0, 71.0, 61.0, 64.0, 58.0, 50.0, 69.0, 64.0, 60.0, 54.0, 64.0, 60.0, 61.0, 57.0, 64.0, 68.0, 74.0, 63.0, 63.0, 68.0, 53.0, 58.0, 65.0, 61.0, 66.0, 59.0, 71.0, 69.0, 63.0, 61.0, 60.0, 60.0, 72.0, 62.0, 64.0, 69.0, 71.0, 75.0, 62.0, 79.0, 35.0, 59.0, 54.0, 58.0, 55.0, 59.0, 59.0, 54.0, 68.0, 59.0, 70.0, 53.0, 71.0, 58.0, 74.0, 59.0, 65.0, 63.0, 59.0, 67.0, 64.0, 66.0, 66.0, 60.0, 61.0, 63.0, 64.0, 0.0, 60.0, 59.0, 67.0, 58.0, 52.0, 52.0, 62.0, 60.0, 63.0, 56.0, 58.0, 59.0, 59.0, 66.0, 52.0, 59.0, 55.0, 68.0, 63.0, 61.0], 'rehab': [56.0, 53.0, 44.0, 60.0, 75.0, 57.0, 72.0, 47.0, 72.0, 43.0, 52.0, 43.0, 56.0, 54.0, 61.0, 48.0, 60.0, 50.0, 68.0, 46.0, 58.0, 55.0, 56.0, 63.0, 48.0, 52.0, 51.0, 49.0, 47.0, 82.0, 58.0, 55.0, 54.0, 76.0, 62.0, 49.0, 58.0, 57.0, 45.0, 71.0, 45.0, 61.0, 44.0, 73.0, 47.0, 53.0, 47.0, 57.0, 77.0, 45.0, 53.0, 63.0, 66.0, 55.0, 56.0, 45.0, 47.0, 65.0, 50.0, 51.0, 51.0, 87.0, 44.0, 61.0, 42.0, 65.0, 59.0, 65.0, 48.0, 57.0, 84.0, 51.0, 53.0, 54.0, 72.0, 44.0, 26.0, 45.0, 64.0, 39.0, 72.0, 77.0, 56.0, 46.0, 51.0, 45.0, 60.0, 57.0, 47.0, 61.0, 59.0, 45.0, 37.0, 62.0, 36.0, 57.0, 43.0, 40.0, 58.0, 55.0, 50.0, 38.0, 45.0, 76.0, 72.0, 71.0, 79.0, 35.0, 68.0, 51.0, 48.0, 51.0, 43.0, 38.0, 45.0, 76.0, 62.0, 53.0, 55.0, 58.0, 84.0, 97.0, 48.0, 61.0, 48.0, 56.0, 60.0, 64.0, 62.0, 37.0, 66.0, 100.0, 92.0, 38.0, 74.0, 77.0, 68.0, 40.0, 41.0, 50.0, 42.0, 44.0, 61.0, 36.0, 69.0, 51.0, 90.0, 79.0, 34.0, 45.0, 54.0, 65.0, 53.0, 60.0, 42.0, 70.0, 51.0, 41.0, 46.0, 70.0, 75.0, 26.0, 38.0, 28.0, 39.0, 19.0, 53.0, 32.0, 29.0, 47.0, 68.0, 61.0, 46.0, 33.0, 50.0, 65.0, 40.0, 80.0, 31.0, 45.0, 55.0, 39.0, 58.0, 42.0, 50.0, 36.0, 43.0, 49.0, 45.0, 0.0, 26.0, 40.0, 43.0, 37.0, 40.0, 28.0, 34.0, 43.0, 40.0, 42.0, 44.0, 39.0, 37.0, 28.0, 52.0, 28.0, 36.0, 36.0, 59.0, 43.0], 'vaccine': [76.0, 79.0, 77.0, 47.0, 84.0, 73.0, 76.0, 66.0, 86.0, 62.0, 71.0, 79.0, 79.0, 76.0, 70.0, 74.0, 85.0, 63.0, 70.0, 76.0, 67.0, 77.0, 63.0, 90.0, 65.0, 54.0, 73.0, 78.0, 60.0, 74.0, 78.0, 91.0, 76.0, 87.0, 60.0, 74.0, 70.0, 88.0, 76.0, 70.0, 72.0, 77.0, 72.0, 79.0, 75.0, 72.0, 69.0, 74.0, 69.0, 99.0, 74.0, 87.0, 80.0, 82.0, 80.0, 80.0, 71.0, 72.0, 78.0, 85.0, 80.0, 69.0, 70.0, 80.0, 71.0, 88.0, 68.0, 84.0, 55.0, 62.0, 80.0, 88.0, 70.0, 70.0, 83.0, 77.0, 83.0, 63.0, 91.0, 70.0, 100.0, 79.0, 90.0, 70.0, 64.0, 69.0, 73.0, 81.0, 81.0, 68.0, 73.0, 64.0, 98.0, 61.0, 80.0, 74.0, 67.0, 74.0, 67.0, 62.0, 64.0, 74.0, 92.0, 69.0, 71.0, 58.0, 65.0, 91.0, 72.0, 67.0, 85.0, 76.0, 60.0, 76.0, 71.0, 66.0, 58.0, 71.0, 64.0, 58.0, 47.0, 44.0, 74.0, 67.0, 74.0, 79.0, 73.0, 56.0, 70.0, 74.0, 78.0, 71.0, 80.0, 83.0, 73.0, 61.0, 62.0, 79.0, 78.0, 76.0, 80.0, 62.0, 64.0, 64.0, 65.0, 61.0, 69.0, 64.0, 83.0, 76.0, 74.0, 52.0, 70.0, 66.0, 64.0, 63.0, 65.0, 76.0, 89.0, 78.0, 68.0, 95.0, 59.0, 85.0, 78.0, 76.0, 56.0, 83.0, 53.0, 71.0, 73.0, 72.0, 78.0, 85.0, 87.0, 70.0, 77.0, 75.0, 68.0, 88.0, 69.0, 70.0, 91.0, 70.0, 68.0, 65.0, 68.0, 78.0, 71.0, 0.0, 61.0, 80.0, 84.0, 65.0, 56.0, 69.0, 78.0, 74.0, 76.0, 80.0, 67.0, 77.0, 80.0, 72.0, 60.0, 76.0, 75.0, 61.0, 89.0, 85.0], 'diarrhea': [66.0, 56.0, 78.0, 53.0, 69.0, 70.0, 58.0, 70.0, 79.0, 73.0, 73.0, 55.0, 66.0, 76.0, 74.0, 74.0, 75.0, 65.0, 69.0, 69.0, 69.0, 68.0, 68.0, 68.0, 65.0, 73.0, 81.0, 74.0, 46.0, 77.0, 68.0, 89.0, 72.0, 65.0, 65.0, 76.0, 84.0, 67.0, 72.0, 69.0, 75.0, 91.0, 80.0, 72.0, 69.0, 74.0, 69.0, 80.0, 65.0, 87.0, 67.0, 69.0, 75.0, 75.0, 100.0, 72.0, 63.0, 85.0, 94.0, 90.0, 65.0, 70.0, 72.0, 94.0, 83.0, 77.0, 72.0, 69.0, 69.0, 64.0, 76.0, 82.0, 82.0, 79.0, 83.0, 79.0, 61.0, 95.0, 66.0, 74.0, 67.0, 90.0, 98.0, 88.0, 81.0, 66.0, 82.0, 81.0, 77.0, 78.0, 72.0, 76.0, 87.0, 79.0, 66.0, 71.0, 68.0, 61.0, 80.0, 70.0, 61.0, 68.0, 75.0, 76.0, 84.0, 81.0, 70.0, 87.0, 89.0, 77.0, 84.0, 63.0, 62.0, 77.0, 72.0, 80.0, 65.0, 71.0, 72.0, 76.0, 94.0, 68.0, 76.0, 83.0, 77.0, 75.0, 77.0, 71.0, 85.0, 74.0, 76.0, 74.0, 77.0, 73.0, 78.0, 59.0, 69.0, 72.0, 69.0, 72.0, 70.0, 79.0, 72.0, 81.0, 86.0, 71.0, 74.0, 73.0, 71.0, 76.0, 80.0, 86.0, 75.0, 68.0, 91.0, 70.0, 71.0, 80.0, 75.0, 78.0, 97.0, 80.0, 80.0, 67.0, 63.0, 80.0, 66.0, 70.0, 59.0, 66.0, 77.0, 70.0, 66.0, 92.0, 65.0, 68.0, 65.0, 85.0, 75.0, 64.0, 66.0, 66.0, 69.0, 75.0, 69.0, 71.0, 66.0, 73.0, 68.0, 0.0, 77.0, 65.0, 61.0, 61.0, 78.0, 50.0, 72.0, 68.0, 66.0, 63.0, 59.0, 55.0, 61.0, 51.0, 65.0, 56.0, 66.0, 73.0, 70.0, 75.0], 'obesity': [47.0, 52.0, 61.0, 41.0, 56.0, 45.0, 58.0, 44.0, 52.0, 49.0, 51.0, 59.0, 67.0, 63.0, 52.0, 49.0, 57.0, 47.0, 52.0, 45.0, 61.0, 48.0, 62.0, 59.0, 48.0, 47.0, 58.0, 58.0, 49.0, 52.0, 54.0, 50.0, 48.0, 62.0, 41.0, 49.0, 45.0, 78.0, 58.0, 45.0, 48.0, 67.0, 49.0, 72.0, 52.0, 58.0, 73.0, 57.0, 49.0, 46.0, 54.0, 63.0, 58.0, 43.0, 43.0, 62.0, 56.0, 41.0, 37.0, 61.0, 58.0, 47.0, 51.0, 58.0, 43.0, 45.0, 48.0, 69.0, 42.0, 42.0, 62.0, 65.0, 49.0, 39.0, 50.0, 54.0, 82.0, 0.0, 77.0, 53.0, 94.0, 42.0, 50.0, 44.0, 42.0, 49.0, 52.0, 86.0, 61.0, 50.0, 48.0, 37.0, 100.0, 38.0, 53.0, 50.0, 56.0, 44.0, 45.0, 50.0, 39.0, 60.0, 81.0, 0.0, 45.0, 45.0, 49.0, 62.0, 54.0, 32.0, 38.0, 43.0, 56.0, 72.0, 52.0, 53.0, 49.0, 44.0, 41.0, 39.0, 37.0, 86.0, 77.0, 51.0, 49.0, 66.0, 51.0, 29.0, 31.0, 51.0, 50.0, 53.0, 31.0, 55.0, 47.0, 52.0, 56.0, 53.0, 66.0, 49.0, 60.0, 51.0, 46.0, 47.0, 37.0, 35.0, 58.0, 52.0, 82.0, 59.0, 47.0, 51.0, 43.0, 57.0, 67.0, 72.0, 60.0, 57.0, 61.0, 66.0, 52.0, 67.0, 0.0, 50.0, 51.0, 51.0, 37.0, 0.0, 40.0, 50.0, 42.0, 50.0, 61.0, 40.0, 36.0, 54.0, 71.0, 47.0, 47.0, 46.0, 64.0, 53.0, 46.0, 45.0, 54.0, 48.0, 56.0, 55.0, 49.0, 0.0, 51.0, 86.0, 47.0, 53.0, 47.0, 45.0, 48.0, 54.0, 40.0, 46.0, 58.0, 50.0, 56.0, 64.0, 42.0, 53.0, 55.0, 63.0, 62.0, 53.0], 'diabetes': [80.0, 78.0, 72.0, 66.0, 78.0, 74.0, 74.0, 74.0, 79.0, 81.0, 75.0, 73.0, 85.0, 76.0, 76.0, 74.0, 83.0, 71.0, 80.0, 75.0, 79.0, 74.0, 83.0, 68.0, 72.0, 81.0, 80.0, 82.0, 70.0, 82.0, 80.0, 84.0, 74.0, 84.0, 73.0, 76.0, 80.0, 87.0, 72.0, 77.0, 68.0, 87.0, 83.0, 75.0, 80.0, 78.0, 83.0, 81.0, 74.0, 75.0, 75.0, 78.0, 77.0, 67.0, 85.0, 82.0, 82.0, 74.0, 73.0, 79.0, 79.0, 76.0, 72.0, 92.0, 68.0, 73.0, 73.0, 74.0, 73.0, 71.0, 80.0, 72.0, 74.0, 72.0, 75.0, 73.0, 78.0, 78.0, 82.0, 71.0, 92.0, 83.0, 89.0, 97.0, 82.0, 71.0, 70.0, 90.0, 73.0, 79.0, 75.0, 73.0, 100.0, 84.0, 75.0, 79.0, 74.0, 74.0, 77.0, 73.0, 69.0, 76.0, 79.0, 84.0, 71.0, 89.0, 81.0, 88.0, 85.0, 79.0, 73.0, 73.0, 96.0, 79.0, 84.0, 95.0, 84.0, 90.0, 65.0, 64.0, 70.0, 100.0, 78.0, 75.0, 76.0, 78.0, 77.0, 65.0, 80.0, 63.0, 81.0, 89.0, 88.0, 73.0, 80.0, 80.0, 81.0, 81.0, 85.0, 79.0, 77.0, 78.0, 72.0, 76.0, 77.0, 75.0, 80.0, 77.0, 73.0, 76.0, 81.0, 84.0, 95.0, 66.0, 79.0, 86.0, 70.0, 81.0, 87.0, 71.0, 75.0, 78.0, 56.0, 81.0, 80.0, 80.0, 83.0, 97.0, 84.0, 66.0, 73.0, 78.0, 69.0, 80.0, 81.0, 81.0, 95.0, 80.0, 69.0, 81.0, 74.0, 82.0, 93.0, 80.0, 75.0, 80.0, 72.0, 79.0, 80.0, 0.0, 78.0, 79.0, 66.0, 74.0, 81.0, 67.0, 80.0, 69.0, 79.0, 71.0, 73.0, 61.0, 76.0, 67.0, 70.0, 63.0, 76.0, 77.0, 75.0, 73.0]}\n"
     ]
    }
   ],
   "source": [
    "# Define a function to read data from a CSV file and return it as a dictionary\n",
    "def read_file (csv_file):\n",
    "\n",
    "    # Open CSV file in read mode\n",
    "    with open (csv_file, \"r\", encoding=\"utf-8-sig\") as file:\n",
    "\n",
    "        # Read the header line of the CSV file\n",
    "        first_line = file.readline().strip().split(\",\")\n",
    "\n",
    "        # Create an empty dictionary with column names as keys and empty lists as values\n",
    "        data_dict = {c:[] for c in first_line}\n",
    "\n",
    "        # Iterate over the range of numbers (based on number of columns)\n",
    "        for n in range (len(first_line)):\n",
    "            \n",
    "            # Use function from FR1 to read name and value of each column\n",
    "            column_name, column_values = read_column(csv_file, n)\n",
    "\n",
    "            # Add names and values to the created dictionary\n",
    "            data_dict[column_name] = [float(value) for value in column_values]\n",
    "                \n",
    "        # Return CSV data as a dictionary\n",
    "        return (data_dict)\n",
    "    \n",
    "# Test the function\n",
    "    \n",
    "data_structure = read_file (\"task1.csv\")\n",
    "print (data_structure)"
   ]
  },
  {
   "cell_type": "markdown",
   "metadata": {
    "deletable": false
   },
   "source": [
    "### Requirement FR3 - Develop a function to calculate the Kendall Tau Correlation Coefficient for two lists of data\n",
    "### Description: This function should calculate the Kendall Tau Rank Correlation Coefficient for two lists of data. The function should take two lists of data (of equal length) as parameters. The function should ensure that the lists are of equal length otherwise raise an error. The function should return the calculated coefficient value. "
   ]
  },
  {
   "cell_type": "code",
   "execution_count": 3,
   "metadata": {
    "deletable": false
   },
   "outputs": [
    {
     "name": "stdout",
     "output_type": "stream",
     "text": [
      "-0.527\n",
      "SignificanceResult(statistic=-0.5270462766947299, pvalue=0.206507295485425)\n"
     ]
    }
   ],
   "source": [
    "# Define a function to calculate the Kendall Tau Correlation Coefficient for two lists\n",
    "def KTCC (L1, L2):\n",
    "    \n",
    "    # Ensure both lists have equal lengths and raise an error if not\n",
    "    if len(L1) != len(L2):\n",
    "        raise ValueError (\"Lists must have equal lengths\")\n",
    "    \n",
    "    # Store the length of the lists\n",
    "    n = len(L1)\n",
    "\n",
    "    # Give initial value of zero to both numbers of concordant and discordant pairs\n",
    "    concordant_pairs, discordant_pairs = 0, 0\n",
    "\n",
    "    # Using nested loops to iterate over pairs\n",
    "    for i in range(n - 1):\n",
    "        for j in range(i + 1, n):\n",
    "\n",
    "            # Check the difference between observations in the lists and count concordant and discordant pairs\n",
    "            if (L1[i]-L1[j])*(L2[i]-L2[j])>0:\n",
    "                concordant_pairs+=1\n",
    "                \n",
    "            elif (L1[i]-L1[j])*(L2[i]-L2[j])<0:\n",
    "                discordant_pairs+=1\n",
    "\n",
    "    # Count the number of tie pairs in each list\n",
    "    tie_count_L1 = sum([L1.count(x) * (L1.count(x) - 1) // 2 for x in set(L1)])\n",
    "    tie_count_L2 = sum([L2.count(x) * (L2.count(x) - 1) // 2 for x in set(L2)])\n",
    "\n",
    "    # Calculate the total number of pair combinations\n",
    "    total_pairs = n * (n - 1) // 2\n",
    "\n",
    "    # Adjust the denominator of the KTCC formula to account for ties\n",
    "    denominator = ((total_pairs - tie_count_L1) * (total_pairs - tie_count_L2)) ** 0.5\n",
    "\n",
    "    # Calculate Kendall Tau Correlation Coefficient\n",
    "    if denominator == 0:\n",
    "        return 0  \n",
    "    else:\n",
    "        Kendall_Tau = (concordant_pairs - discordant_pairs) / denominator\n",
    "\n",
    "    return round (Kendall_Tau, 4)\n",
    "\n",
    "# Testing the custom KTCC function against SciPy's kendalltau function for comparison\n",
    "\n",
    "list1 = [100,100,25,410,1]\n",
    "list2 = [0,45,13,2,1520]\n",
    "k1 = KTCC (list1,list2)\n",
    "print (k1)\n",
    "\n",
    "import scipy as sp\n",
    "k2 = sp.stats.kendalltau (list1,list2)\n",
    "print (k2)"
   ]
  },
  {
   "cell_type": "markdown",
   "metadata": {},
   "source": [
    "Kendall's Tau is a correlation coefficient and is thus a measure of the relationship between two variables.  It is a non-parametric test (does not assume a specific distribution for the data) that assesses the strength and direction of the relationship between two variables, making it suitable for data that does not necessarily follow a normal distribution. The Kendall Tau correlation coefficient is calculated based on the number of concordant and discordant pairs of observations in the data. A pair of observations is considered concordant if the ranks for both elements agree in the two data sets. Conversely, they are discordant if the ranks disagree.\n",
    "In my code, the denominator in the formula adjusts for ties in the data. Ties can affect the total number of pairs that can be formed, and therefore, they need to be accounted for in the calculation. If the denominator is zero (which can occur if all the elements in one or both lists are identical), the coefficient is set to 0, as correlation in such cases is not defined. The final Kendall Tau correlation coefficient is a value between -1 and 1, where 1 implies a perfect positive correlation, -1 implies a perfect negative correlation, and 0 implies no correlation."
   ]
  },
  {
   "cell_type": "markdown",
   "metadata": {
    "deletable": false
   },
   "source": [
    "### Requirement FR4 - Develop a function to generate a set of Kendall Tau Correlation Coefficients for a data structure like the one generated in FR2\n",
    "### Description: The function should accept one parameter: the Dictionary data structure generated in FR2. This function should make use of the function developed in FR3 to generate a Kendall Tau Rank Correlation Coefficient for every pair of columns in the input data structure parameter. The function should return a list of tuples, each tuple containing the two column names and associated correlation coefficient value. "
   ]
  },
  {
   "cell_type": "code",
   "execution_count": 4,
   "metadata": {
    "deletable": false
   },
   "outputs": [
    {
     "name": "stdout",
     "output_type": "stream",
     "text": [
      "[('cancer', 'cardiovascular', 0.1445), ('cancer', 'stroke', 0.2625), ('cancer', 'depression', 0.2749), ('cancer', 'rehab', 0.2662), ('cancer', 'vaccine', 0.1938), ('cancer', 'diarrhea', 0.2644), ('cancer', 'obesity', 0.1349), ('cancer', 'diabetes', 0.1795), ('cardiovascular', 'stroke', 0.053), ('cardiovascular', 'depression', 0.0057), ('cardiovascular', 'rehab', 0.1599), ('cardiovascular', 'vaccine', -0.0852), ('cardiovascular', 'diarrhea', -0.0333), ('cardiovascular', 'obesity', 0.1784), ('cardiovascular', 'diabetes', 0.1623), ('stroke', 'depression', 0.2551), ('stroke', 'rehab', 0.1291), ('stroke', 'vaccine', 0.1136), ('stroke', 'diarrhea', 0.2757), ('stroke', 'obesity', 0.0554), ('stroke', 'diabetes', 0.1707), ('depression', 'rehab', -0.016), ('depression', 'vaccine', 0.3091), ('depression', 'diarrhea', 0.3227), ('depression', 'obesity', 0.257), ('depression', 'diabetes', 0.1045), ('rehab', 'vaccine', -0.0658), ('rehab', 'diarrhea', 0.1413), ('rehab', 'obesity', -0.0382), ('rehab', 'diabetes', 0.1252), ('vaccine', 'diarrhea', 0.0563), ('vaccine', 'obesity', 0.284), ('vaccine', 'diabetes', 0.1143), ('diarrhea', 'obesity', -0.0816), ('diarrhea', 'diabetes', 0.1433), ('obesity', 'diabetes', 0.1399)]\n"
     ]
    }
   ],
   "source": [
    "# Define a function to calculate Kendall Tau coefficients for all pairs of columns in a given data structure\n",
    "def KTCC_SET (data):\n",
    "\n",
    "    # Convert the keys of the dictionary to a list to represent column names\n",
    "    keys = list (data.keys())\n",
    "\n",
    "    # Create an empty list for coefficents\n",
    "    coef_list = []\n",
    "\n",
    "    # Iterate over pairs of columns, Using nested loops\n",
    "    for i in range (len(keys)):\n",
    "        for j in range (i+1, len(keys)):\n",
    "\n",
    "            # Extract data for each column pair to create two comparison lists\n",
    "            L1 = data [keys[i]]\n",
    "            L2 = data [keys[j]]\n",
    "\n",
    "            # Use function from FR3 to calculate coefficients\n",
    "            kendall = KTCC (L1,L2)\n",
    "\n",
    "            # Add the name of pairs and their coefficient to created list\n",
    "            coef_list.append ((keys[i],keys[j],kendall))\n",
    "            \n",
    "    # Return the list\n",
    "    return coef_list\n",
    "\n",
    "# Test the function with the data structure resulted from FR2\n",
    "\n",
    "result = KTCC_SET (data_structure)\n",
    "print (result)"
   ]
  },
  {
   "cell_type": "markdown",
   "metadata": {
    "deletable": false
   },
   "source": [
    "### Requirement FR5 - Develop a function to print a custom table for selected data from a data structure like the one generated in FR4\n",
    "### Description: This function should output the Kendall Tau Rank Correlation Coefficient for a subset of the column pairs generated in FR4. The function should take three parameters: list of correlation coefficient tuples, border character to use and which columns to include. "
   ]
  },
  {
   "cell_type": "code",
   "execution_count": 5,
   "metadata": {
    "deletable": false
   },
   "outputs": [
    {
     "name": "stdout",
     "output_type": "stream",
     "text": [
      "                 **************************************************************************************\n",
      "                 *     cancer     *   depression   * cardiovascular *     rehab      *    vaccine     *\n",
      "*******************************************************************************************************\n",
      "*     cancer     *       -        *     0.2749     *     0.1445     *     0.2662     *     0.1938     *\n",
      "*   depression   *     0.2749     *       -        *     0.0057     *     -0.016     *     0.3091     *\n",
      "* cardiovascular *     0.1445     *     0.0057     *       -        *     0.1599     *    -0.0852     *\n",
      "*     rehab      *     0.2662     *     -0.016     *     0.1599     *       -        *    -0.0658     *\n",
      "*    vaccine     *     0.1938     *     0.3091     *    -0.0852     *    -0.0658     *       -        *\n",
      "*******************************************************************************************************\n"
     ]
    }
   ],
   "source": [
    "# Define a function to get data structure, border character, and selected variables and print a table of coefficients\n",
    "def KTCC_TABLE (data, border_char, selected_columns):\n",
    "\n",
    "    # Filter results in data structure to include only selected variables\n",
    "    selected_results = {(col1, col2): Kendall for col1, col2, Kendall in data if col1 in selected_columns and col2 in selected_columns}\n",
    "\n",
    "    # Calculate length for each cell: based on the maximum length between selected variable names (plus 2 for spaces on right and left sides)\n",
    "    max_variable_length = max(len(col) for col in selected_columns) + 2\n",
    "\n",
    "    # Print top header boarder line (based on number of selected variables, maximum variable length and number of boarder character between names)\n",
    "    print (\" \" * (max_variable_length + 1) + border_char * (len(selected_columns) * (max_variable_length) + (len(selected_columns) + 1)))\n",
    "\n",
    "    # Print table header\n",
    "\n",
    "    # Create an empty space above the first column\n",
    "    header = \" \" * (max_variable_length + 1) + border_char\n",
    "\n",
    "    # Add selected variable names and boarder character between them to the header and print\n",
    "    for col in selected_columns:\n",
    "        header += f\"{col.center(max_variable_length)}{border_char}\"\n",
    "    print (header)\n",
    "\n",
    "    # Print bottom header border line\n",
    "    print (border_char * ((len(selected_columns) + 1) * (max_variable_length) + (len(selected_columns) + 2)))\n",
    "\n",
    "    # Iterate over selected columns to print each row of the table\n",
    "    for col1 in selected_columns:\n",
    "\n",
    "        # Set first column with selected variable names and boatder character on both sides of them\n",
    "        row = f\"{border_char}{col1.center(max_variable_length)}{border_char}\"\n",
    "\n",
    "        # Iterate over selected columns to find pair of variables\n",
    "        for col2 in selected_columns:\n",
    "            \n",
    "            # Put \"-\" in cells with the same column and row name\n",
    "            if col1 == col2:\n",
    "                row += f\"{'-'.center(max_variable_length)}{border_char}\"\n",
    "\n",
    "            # Find coefficients for each pair in selected columns and add them to the rows\n",
    "            else:\n",
    "                Kendall = selected_results[(col1, col2)] if (col1, col2) in selected_results else selected_results[(col2, col1)]\n",
    "                row += f\"{str(Kendall).center(max_variable_length)}{border_char}\"\n",
    "        print (row)\n",
    "\n",
    "    # Print bottom table border line\n",
    "    print (border_char * ((len(selected_columns) + 1) * (max_variable_length) + (len(selected_columns) + 2)))\n",
    "\n",
    "# Test the function with the result from FR4\n",
    "    \n",
    "variables = [\"cancer\", \"depression\", \"cardiovascular\", \"rehab\", \"vaccine\"]\n",
    "boarder = \"*\"\n",
    "KTCC_TABLE (result, boarder, variables)"
   ]
  }
 ],
 "metadata": {
  "kernelspec": {
   "display_name": "Python 3 (ipykernel)",
   "language": "python",
   "name": "python3"
  },
  "language_info": {
   "codemirror_mode": {
    "name": "ipython",
    "version": 3
   },
   "file_extension": ".py",
   "mimetype": "text/x-python",
   "name": "python",
   "nbconvert_exporter": "python",
   "pygments_lexer": "ipython3",
   "version": "3.11.2"
  }
 },
 "nbformat": 4,
 "nbformat_minor": 4
}
